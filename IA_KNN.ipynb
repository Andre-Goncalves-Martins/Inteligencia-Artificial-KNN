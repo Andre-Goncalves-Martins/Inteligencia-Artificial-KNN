{
 "cells": [
  {
   "cell_type": "markdown",
   "metadata": {
    "id": "y8eCplc96M30"
   },
   "source": [
    "# Nesse notebook vou treinar a aplicação de IA/Machine learning usando o algoritmo de KNN e a base de dados Data.csv que tem dados sobre notas de alunos desde o fundamental até o ensino médio. Para então ver oq é possível inferir"
   ]
  },
  {
   "cell_type": "markdown",
   "metadata": {
    "id": "JqqMpV0-6t_o"
   },
   "source": [
    "## **Importing Libs**"
   ]
  },
  {
   "cell_type": "code",
   "execution_count": 37,
   "metadata": {
    "executionInfo": {
     "elapsed": 265,
     "status": "ok",
     "timestamp": 1628205425402,
     "user": {
      "displayName": "Andre Martins",
      "photoUrl": "https://lh3.googleusercontent.com/a-/AOh14GgR3a052ODCEOjpwY7gmV-YmeNMyNzOj64YJFnEzg=s64",
      "userId": "08401575457164981389"
     },
     "user_tz": 180
    },
    "id": "65NdyvyR6GOo"
   },
   "outputs": [],
   "source": [
    "# Bibliotecas para manipulação de dados\n",
    "import pandas as pd\n",
    "import numpy as np\n",
    "import matplotlib.pyplot as plt\n",
    "import seaborn as sns\n",
    "\n",
    "# Bibliotecas para criar nosso model de Machine Learning(ML)\n",
    "from sklearn import preprocessing, model_selection, neighbors\n",
    "from sklearn.preprocessing import StandardScaler\n",
    "\n",
    "# Biblioteca para plotar nosso modelo\n",
    "from mlxtend.plotting import plot_decision_regions"
   ]
  },
  {
   "cell_type": "markdown",
   "metadata": {
    "id": "uBXSIJ2xB0ag"
   },
   "source": [
    "## **Análise Básica do Dataset**"
   ]
  },
  {
   "cell_type": "code",
   "execution_count": 38,
   "metadata": {
    "executionInfo": {
     "elapsed": 35,
     "status": "ok",
     "timestamp": 1628205426381,
     "user": {
      "displayName": "Andre Martins",
      "photoUrl": "https://lh3.googleusercontent.com/a-/AOh14GgR3a052ODCEOjpwY7gmV-YmeNMyNzOj64YJFnEzg=s64",
      "userId": "08401575457164981389"
     },
     "user_tz": 180
    },
    "id": "Evh120tTByUj"
   },
   "outputs": [],
   "source": [
    "df = pd.read_csv('Data.csv')\n",
    "df.drop(['sl_no'], 1, inplace=True)"
   ]
  },
  {
   "cell_type": "code",
   "execution_count": 39,
   "metadata": {
    "colab": {
     "base_uri": "https://localhost:8080/",
     "height": 204
    },
    "executionInfo": {
     "elapsed": 39,
     "status": "ok",
     "timestamp": 1628205426387,
     "user": {
      "displayName": "Andre Martins",
      "photoUrl": "https://lh3.googleusercontent.com/a-/AOh14GgR3a052ODCEOjpwY7gmV-YmeNMyNzOj64YJFnEzg=s64",
      "userId": "08401575457164981389"
     },
     "user_tz": 180
    },
    "id": "I8xc9Ab-ByRs",
    "outputId": "e693e4cd-3ae0-41fb-f1de-ee6ea0bde01f"
   },
   "outputs": [
    {
     "data": {
      "text/html": [
       "<div>\n",
       "<style scoped>\n",
       "    .dataframe tbody tr th:only-of-type {\n",
       "        vertical-align: middle;\n",
       "    }\n",
       "\n",
       "    .dataframe tbody tr th {\n",
       "        vertical-align: top;\n",
       "    }\n",
       "\n",
       "    .dataframe thead th {\n",
       "        text-align: right;\n",
       "    }\n",
       "</style>\n",
       "<table border=\"1\" class=\"dataframe\">\n",
       "  <thead>\n",
       "    <tr style=\"text-align: right;\">\n",
       "      <th></th>\n",
       "      <th>gender</th>\n",
       "      <th>ssc_p</th>\n",
       "      <th>ssc_b</th>\n",
       "      <th>hsc_p</th>\n",
       "      <th>hsc_b</th>\n",
       "      <th>hsc_s</th>\n",
       "      <th>degree_p</th>\n",
       "      <th>degree_t</th>\n",
       "      <th>workex</th>\n",
       "      <th>etest_p</th>\n",
       "      <th>specialisation</th>\n",
       "      <th>mba_p</th>\n",
       "      <th>status</th>\n",
       "      <th>salary</th>\n",
       "    </tr>\n",
       "  </thead>\n",
       "  <tbody>\n",
       "    <tr>\n",
       "      <th>0</th>\n",
       "      <td>M</td>\n",
       "      <td>67.00</td>\n",
       "      <td>Others</td>\n",
       "      <td>91.00</td>\n",
       "      <td>Others</td>\n",
       "      <td>Commerce</td>\n",
       "      <td>58.00</td>\n",
       "      <td>Sci&amp;Tech</td>\n",
       "      <td>No</td>\n",
       "      <td>55.0</td>\n",
       "      <td>Mkt&amp;HR</td>\n",
       "      <td>58.80</td>\n",
       "      <td>Placed</td>\n",
       "      <td>270000.0</td>\n",
       "    </tr>\n",
       "    <tr>\n",
       "      <th>1</th>\n",
       "      <td>M</td>\n",
       "      <td>79.33</td>\n",
       "      <td>Central</td>\n",
       "      <td>78.33</td>\n",
       "      <td>Others</td>\n",
       "      <td>Science</td>\n",
       "      <td>77.48</td>\n",
       "      <td>Sci&amp;Tech</td>\n",
       "      <td>Yes</td>\n",
       "      <td>86.5</td>\n",
       "      <td>Mkt&amp;Fin</td>\n",
       "      <td>66.28</td>\n",
       "      <td>Placed</td>\n",
       "      <td>200000.0</td>\n",
       "    </tr>\n",
       "    <tr>\n",
       "      <th>2</th>\n",
       "      <td>M</td>\n",
       "      <td>65.00</td>\n",
       "      <td>Central</td>\n",
       "      <td>68.00</td>\n",
       "      <td>Central</td>\n",
       "      <td>Arts</td>\n",
       "      <td>64.00</td>\n",
       "      <td>Comm&amp;Mgmt</td>\n",
       "      <td>No</td>\n",
       "      <td>75.0</td>\n",
       "      <td>Mkt&amp;Fin</td>\n",
       "      <td>57.80</td>\n",
       "      <td>Placed</td>\n",
       "      <td>250000.0</td>\n",
       "    </tr>\n",
       "    <tr>\n",
       "      <th>3</th>\n",
       "      <td>M</td>\n",
       "      <td>56.00</td>\n",
       "      <td>Central</td>\n",
       "      <td>52.00</td>\n",
       "      <td>Central</td>\n",
       "      <td>Science</td>\n",
       "      <td>52.00</td>\n",
       "      <td>Sci&amp;Tech</td>\n",
       "      <td>No</td>\n",
       "      <td>66.0</td>\n",
       "      <td>Mkt&amp;HR</td>\n",
       "      <td>59.43</td>\n",
       "      <td>Not Placed</td>\n",
       "      <td>NaN</td>\n",
       "    </tr>\n",
       "    <tr>\n",
       "      <th>4</th>\n",
       "      <td>M</td>\n",
       "      <td>85.80</td>\n",
       "      <td>Central</td>\n",
       "      <td>73.60</td>\n",
       "      <td>Central</td>\n",
       "      <td>Commerce</td>\n",
       "      <td>73.30</td>\n",
       "      <td>Comm&amp;Mgmt</td>\n",
       "      <td>No</td>\n",
       "      <td>96.8</td>\n",
       "      <td>Mkt&amp;Fin</td>\n",
       "      <td>55.50</td>\n",
       "      <td>Placed</td>\n",
       "      <td>425000.0</td>\n",
       "    </tr>\n",
       "  </tbody>\n",
       "</table>\n",
       "</div>"
      ],
      "text/plain": [
       "  gender  ssc_p    ssc_b  hsc_p  ... specialisation  mba_p      status    salary\n",
       "0      M  67.00   Others  91.00  ...         Mkt&HR  58.80      Placed  270000.0\n",
       "1      M  79.33  Central  78.33  ...        Mkt&Fin  66.28      Placed  200000.0\n",
       "2      M  65.00  Central  68.00  ...        Mkt&Fin  57.80      Placed  250000.0\n",
       "3      M  56.00  Central  52.00  ...         Mkt&HR  59.43  Not Placed       NaN\n",
       "4      M  85.80  Central  73.60  ...        Mkt&Fin  55.50      Placed  425000.0\n",
       "\n",
       "[5 rows x 14 columns]"
      ]
     },
     "execution_count": 39,
     "metadata": {
      "tags": []
     },
     "output_type": "execute_result"
    }
   ],
   "source": [
    "df.head()"
   ]
  },
  {
   "cell_type": "code",
   "execution_count": 40,
   "metadata": {
    "colab": {
     "base_uri": "https://localhost:8080/"
    },
    "executionInfo": {
     "elapsed": 34,
     "status": "ok",
     "timestamp": 1628205426389,
     "user": {
      "displayName": "Andre Martins",
      "photoUrl": "https://lh3.googleusercontent.com/a-/AOh14GgR3a052ODCEOjpwY7gmV-YmeNMyNzOj64YJFnEzg=s64",
      "userId": "08401575457164981389"
     },
     "user_tz": 180
    },
    "id": "0qQFP2c5ByOj",
    "outputId": "12c497a3-3b79-4c22-e5d9-2d5a9f2878ea"
   },
   "outputs": [
    {
     "name": "stdout",
     "output_type": "stream",
     "text": [
      "<class 'pandas.core.frame.DataFrame'>\n",
      "RangeIndex: 215 entries, 0 to 214\n",
      "Data columns (total 14 columns):\n",
      " #   Column          Non-Null Count  Dtype  \n",
      "---  ------          --------------  -----  \n",
      " 0   gender          215 non-null    object \n",
      " 1   ssc_p           215 non-null    float64\n",
      " 2   ssc_b           215 non-null    object \n",
      " 3   hsc_p           215 non-null    float64\n",
      " 4   hsc_b           215 non-null    object \n",
      " 5   hsc_s           215 non-null    object \n",
      " 6   degree_p        215 non-null    float64\n",
      " 7   degree_t        215 non-null    object \n",
      " 8   workex          215 non-null    object \n",
      " 9   etest_p         215 non-null    float64\n",
      " 10  specialisation  215 non-null    object \n",
      " 11  mba_p           215 non-null    float64\n",
      " 12  status          215 non-null    object \n",
      " 13  salary          148 non-null    float64\n",
      "dtypes: float64(6), object(8)\n",
      "memory usage: 23.6+ KB\n"
     ]
    }
   ],
   "source": [
    "df.info()\n",
    "# Obs: Importante saber os tipos das variáveis dentro da base de dados pra poder \n",
    "#ver quais colunas estão os dados numéricos que para este caso são os que são necessários"
   ]
  },
  {
   "cell_type": "code",
   "execution_count": 41,
   "metadata": {
    "colab": {
     "base_uri": "https://localhost:8080/",
     "height": 297
    },
    "executionInfo": {
     "elapsed": 27,
     "status": "ok",
     "timestamp": 1628205426390,
     "user": {
      "displayName": "Andre Martins",
      "photoUrl": "https://lh3.googleusercontent.com/a-/AOh14GgR3a052ODCEOjpwY7gmV-YmeNMyNzOj64YJFnEzg=s64",
      "userId": "08401575457164981389"
     },
     "user_tz": 180
    },
    "id": "MWUCndf5ByMA",
    "outputId": "0749c642-6c64-4aeb-e989-83df2cdbdc3e"
   },
   "outputs": [
    {
     "data": {
      "text/html": [
       "<div>\n",
       "<style scoped>\n",
       "    .dataframe tbody tr th:only-of-type {\n",
       "        vertical-align: middle;\n",
       "    }\n",
       "\n",
       "    .dataframe tbody tr th {\n",
       "        vertical-align: top;\n",
       "    }\n",
       "\n",
       "    .dataframe thead th {\n",
       "        text-align: right;\n",
       "    }\n",
       "</style>\n",
       "<table border=\"1\" class=\"dataframe\">\n",
       "  <thead>\n",
       "    <tr style=\"text-align: right;\">\n",
       "      <th></th>\n",
       "      <th>ssc_p</th>\n",
       "      <th>hsc_p</th>\n",
       "      <th>degree_p</th>\n",
       "      <th>etest_p</th>\n",
       "      <th>mba_p</th>\n",
       "      <th>salary</th>\n",
       "    </tr>\n",
       "  </thead>\n",
       "  <tbody>\n",
       "    <tr>\n",
       "      <th>count</th>\n",
       "      <td>215.000000</td>\n",
       "      <td>215.000000</td>\n",
       "      <td>215.000000</td>\n",
       "      <td>215.000000</td>\n",
       "      <td>215.000000</td>\n",
       "      <td>148.000000</td>\n",
       "    </tr>\n",
       "    <tr>\n",
       "      <th>mean</th>\n",
       "      <td>67.303395</td>\n",
       "      <td>66.333163</td>\n",
       "      <td>66.370186</td>\n",
       "      <td>72.100558</td>\n",
       "      <td>62.278186</td>\n",
       "      <td>288655.405405</td>\n",
       "    </tr>\n",
       "    <tr>\n",
       "      <th>std</th>\n",
       "      <td>10.827205</td>\n",
       "      <td>10.897509</td>\n",
       "      <td>7.358743</td>\n",
       "      <td>13.275956</td>\n",
       "      <td>5.833385</td>\n",
       "      <td>93457.452420</td>\n",
       "    </tr>\n",
       "    <tr>\n",
       "      <th>min</th>\n",
       "      <td>40.890000</td>\n",
       "      <td>37.000000</td>\n",
       "      <td>50.000000</td>\n",
       "      <td>50.000000</td>\n",
       "      <td>51.210000</td>\n",
       "      <td>200000.000000</td>\n",
       "    </tr>\n",
       "    <tr>\n",
       "      <th>25%</th>\n",
       "      <td>60.600000</td>\n",
       "      <td>60.900000</td>\n",
       "      <td>61.000000</td>\n",
       "      <td>60.000000</td>\n",
       "      <td>57.945000</td>\n",
       "      <td>240000.000000</td>\n",
       "    </tr>\n",
       "    <tr>\n",
       "      <th>50%</th>\n",
       "      <td>67.000000</td>\n",
       "      <td>65.000000</td>\n",
       "      <td>66.000000</td>\n",
       "      <td>71.000000</td>\n",
       "      <td>62.000000</td>\n",
       "      <td>265000.000000</td>\n",
       "    </tr>\n",
       "    <tr>\n",
       "      <th>75%</th>\n",
       "      <td>75.700000</td>\n",
       "      <td>73.000000</td>\n",
       "      <td>72.000000</td>\n",
       "      <td>83.500000</td>\n",
       "      <td>66.255000</td>\n",
       "      <td>300000.000000</td>\n",
       "    </tr>\n",
       "    <tr>\n",
       "      <th>max</th>\n",
       "      <td>89.400000</td>\n",
       "      <td>97.700000</td>\n",
       "      <td>91.000000</td>\n",
       "      <td>98.000000</td>\n",
       "      <td>77.890000</td>\n",
       "      <td>940000.000000</td>\n",
       "    </tr>\n",
       "  </tbody>\n",
       "</table>\n",
       "</div>"
      ],
      "text/plain": [
       "            ssc_p       hsc_p  ...       mba_p         salary\n",
       "count  215.000000  215.000000  ...  215.000000     148.000000\n",
       "mean    67.303395   66.333163  ...   62.278186  288655.405405\n",
       "std     10.827205   10.897509  ...    5.833385   93457.452420\n",
       "min     40.890000   37.000000  ...   51.210000  200000.000000\n",
       "25%     60.600000   60.900000  ...   57.945000  240000.000000\n",
       "50%     67.000000   65.000000  ...   62.000000  265000.000000\n",
       "75%     75.700000   73.000000  ...   66.255000  300000.000000\n",
       "max     89.400000   97.700000  ...   77.890000  940000.000000\n",
       "\n",
       "[8 rows x 6 columns]"
      ]
     },
     "execution_count": 41,
     "metadata": {
      "tags": []
     },
     "output_type": "execute_result"
    }
   ],
   "source": [
    "df.describe() #descreve apenas as colunas que tem valores numéricos"
   ]
  },
  {
   "cell_type": "code",
   "execution_count": 42,
   "metadata": {
    "colab": {
     "base_uri": "https://localhost:8080/",
     "height": 173
    },
    "executionInfo": {
     "elapsed": 25,
     "status": "ok",
     "timestamp": 1628205426392,
     "user": {
      "displayName": "Andre Martins",
      "photoUrl": "https://lh3.googleusercontent.com/a-/AOh14GgR3a052ODCEOjpwY7gmV-YmeNMyNzOj64YJFnEzg=s64",
      "userId": "08401575457164981389"
     },
     "user_tz": 180
    },
    "id": "yucGP5NpByJF",
    "outputId": "fadc6111-bdb2-4c86-a125-72f1dd145aa6"
   },
   "outputs": [
    {
     "data": {
      "text/html": [
       "<div>\n",
       "<style scoped>\n",
       "    .dataframe tbody tr th:only-of-type {\n",
       "        vertical-align: middle;\n",
       "    }\n",
       "\n",
       "    .dataframe tbody tr th {\n",
       "        vertical-align: top;\n",
       "    }\n",
       "\n",
       "    .dataframe thead th {\n",
       "        text-align: right;\n",
       "    }\n",
       "</style>\n",
       "<table border=\"1\" class=\"dataframe\">\n",
       "  <thead>\n",
       "    <tr style=\"text-align: right;\">\n",
       "      <th></th>\n",
       "      <th>gender</th>\n",
       "      <th>ssc_b</th>\n",
       "      <th>hsc_b</th>\n",
       "      <th>hsc_s</th>\n",
       "      <th>degree_t</th>\n",
       "      <th>workex</th>\n",
       "      <th>specialisation</th>\n",
       "      <th>status</th>\n",
       "    </tr>\n",
       "  </thead>\n",
       "  <tbody>\n",
       "    <tr>\n",
       "      <th>count</th>\n",
       "      <td>215</td>\n",
       "      <td>215</td>\n",
       "      <td>215</td>\n",
       "      <td>215</td>\n",
       "      <td>215</td>\n",
       "      <td>215</td>\n",
       "      <td>215</td>\n",
       "      <td>215</td>\n",
       "    </tr>\n",
       "    <tr>\n",
       "      <th>unique</th>\n",
       "      <td>2</td>\n",
       "      <td>2</td>\n",
       "      <td>2</td>\n",
       "      <td>3</td>\n",
       "      <td>3</td>\n",
       "      <td>2</td>\n",
       "      <td>2</td>\n",
       "      <td>2</td>\n",
       "    </tr>\n",
       "    <tr>\n",
       "      <th>top</th>\n",
       "      <td>M</td>\n",
       "      <td>Central</td>\n",
       "      <td>Others</td>\n",
       "      <td>Commerce</td>\n",
       "      <td>Comm&amp;Mgmt</td>\n",
       "      <td>No</td>\n",
       "      <td>Mkt&amp;Fin</td>\n",
       "      <td>Placed</td>\n",
       "    </tr>\n",
       "    <tr>\n",
       "      <th>freq</th>\n",
       "      <td>139</td>\n",
       "      <td>116</td>\n",
       "      <td>131</td>\n",
       "      <td>113</td>\n",
       "      <td>145</td>\n",
       "      <td>141</td>\n",
       "      <td>120</td>\n",
       "      <td>148</td>\n",
       "    </tr>\n",
       "  </tbody>\n",
       "</table>\n",
       "</div>"
      ],
      "text/plain": [
       "       gender    ssc_b   hsc_b  ... workex specialisation  status\n",
       "count     215      215     215  ...    215            215     215\n",
       "unique      2        2       2  ...      2              2       2\n",
       "top         M  Central  Others  ...     No        Mkt&Fin  Placed\n",
       "freq      139      116     131  ...    141            120     148\n",
       "\n",
       "[4 rows x 8 columns]"
      ]
     },
     "execution_count": 42,
     "metadata": {
      "tags": []
     },
     "output_type": "execute_result"
    }
   ],
   "source": [
    "# Incluindo agora apenas as colunas com valores do tipo 'object'\n",
    "df.describe(include=['object'])"
   ]
  },
  {
   "cell_type": "markdown",
   "metadata": {
    "id": "HulPp0lOHm-w"
   },
   "source": [
    "## **Tratamento de dados**"
   ]
  },
  {
   "cell_type": "markdown",
   "metadata": {
    "id": "eZ1XsHk0H8fS"
   },
   "source": [
    "filtrando os dados: transformando as variáveis strings em valores numéricos para poder aplicar o kNN"
   ]
  },
  {
   "cell_type": "code",
   "execution_count": 43,
   "metadata": {
    "executionInfo": {
     "elapsed": 1051,
     "status": "ok",
     "timestamp": 1628205427419,
     "user": {
      "displayName": "Andre Martins",
      "photoUrl": "https://lh3.googleusercontent.com/a-/AOh14GgR3a052ODCEOjpwY7gmV-YmeNMyNzOj64YJFnEzg=s64",
      "userId": "08401575457164981389"
     },
     "user_tz": 180
    },
    "id": "aZeDXL5yByGV"
   },
   "outputs": [],
   "source": [
    "# Primeiramente filtrando os valores Others da coluna degree_t (por acabar sendo um dado outlier)\n",
    "df = df[df['degree_t'] != 'Others']"
   ]
  },
  {
   "cell_type": "code",
   "execution_count": 44,
   "metadata": {
    "executionInfo": {
     "elapsed": 23,
     "status": "ok",
     "timestamp": 1628205427420,
     "user": {
      "displayName": "Andre Martins",
      "photoUrl": "https://lh3.googleusercontent.com/a-/AOh14GgR3a052ODCEOjpwY7gmV-YmeNMyNzOj64YJFnEzg=s64",
      "userId": "08401575457164981389"
     },
     "user_tz": 180
    },
    "id": "OU5J5CiUByD0"
   },
   "outputs": [],
   "source": [
    "# Inserindo 0 para os que n possuem salário, ou seja, estão como NaN\n",
    "df['salary'].fillna(0, inplace=True)"
   ]
  },
  {
   "cell_type": "code",
   "execution_count": 45,
   "metadata": {
    "colab": {
     "base_uri": "https://localhost:8080/"
    },
    "executionInfo": {
     "elapsed": 25,
     "status": "ok",
     "timestamp": 1628205427422,
     "user": {
      "displayName": "Andre Martins",
      "photoUrl": "https://lh3.googleusercontent.com/a-/AOh14GgR3a052ODCEOjpwY7gmV-YmeNMyNzOj64YJFnEzg=s64",
      "userId": "08401575457164981389"
     },
     "user_tz": 180
    },
    "id": "u7rAvE2dByAv",
    "outputId": "3b6d95cc-3537-4b02-9472-3eb1297b3924"
   },
   "outputs": [
    {
     "data": {
      "text/plain": [
       "count       204.000000\n",
       "mean     202544.117647\n",
       "std      154464.984840\n",
       "min           0.000000\n",
       "25%           0.000000\n",
       "50%      240000.000000\n",
       "75%      285500.000000\n",
       "max      940000.000000\n",
       "Name: salary, dtype: float64"
      ]
     },
     "execution_count": 45,
     "metadata": {
      "tags": []
     },
     "output_type": "execute_result"
    }
   ],
   "source": [
    "df['salary'].describe()"
   ]
  },
  {
   "cell_type": "markdown",
   "metadata": {
    "id": "k82PkuozLdrz"
   },
   "source": [
    "Pode-se inferir que a mediana do salário das pessoas é 240k, e a partir dela serão divido os gps de quem ganha mais e quem ganha menos doq o valor da mediana"
   ]
  },
  {
   "cell_type": "code",
   "execution_count": 46,
   "metadata": {
    "executionInfo": {
     "elapsed": 24,
     "status": "ok",
     "timestamp": 1628205427423,
     "user": {
      "displayName": "Andre Martins",
      "photoUrl": "https://lh3.googleusercontent.com/a-/AOh14GgR3a052ODCEOjpwY7gmV-YmeNMyNzOj64YJFnEzg=s64",
      "userId": "08401575457164981389"
     },
     "user_tz": 180
    },
    "id": "0CBJHiwDBx-E"
   },
   "outputs": [],
   "source": [
    "#transformando assim os valores da base de acordo com essa mediana, para que 0 seja quem tem o salario menor que a mediana e 1 para quem tiver um maior\n",
    "df.loc[df['salary'] < 240000.00, 'salary'] = 0\n",
    "df.loc[df['salary'] >= 240000.00, 'salary'] = 1"
   ]
  },
  {
   "cell_type": "code",
   "execution_count": 47,
   "metadata": {
    "colab": {
     "base_uri": "https://localhost:8080/"
    },
    "executionInfo": {
     "elapsed": 24,
     "status": "ok",
     "timestamp": 1628205427424,
     "user": {
      "displayName": "Andre Martins",
      "photoUrl": "https://lh3.googleusercontent.com/a-/AOh14GgR3a052ODCEOjpwY7gmV-YmeNMyNzOj64YJFnEzg=s64",
      "userId": "08401575457164981389"
     },
     "user_tz": 180
    },
    "id": "ZZyXitulBx7b",
    "outputId": "ca0bf7ac-68a9-4710-a1cc-422399cb1ac7"
   },
   "outputs": [
    {
     "data": {
      "text/plain": [
       "array([1., 0.])"
      ]
     },
     "execution_count": 47,
     "metadata": {
      "tags": []
     },
     "output_type": "execute_result"
    }
   ],
   "source": [
    "df['salary'].unique()"
   ]
  },
  {
   "cell_type": "markdown",
   "metadata": {
    "id": "S1wHdaUaPXz_"
   },
   "source": [
    "Para melhorar a precisão a acurácia do modelo será utilizada a função do pandas a seguir que cria novas colunas para cada valor que temos em uma determinada coluna querendo dizer sim(1) ou não(0) para esse valor."
   ]
  },
  {
   "cell_type": "code",
   "execution_count": 48,
   "metadata": {
    "colab": {
     "base_uri": "https://localhost:8080/",
     "height": 241
    },
    "executionInfo": {
     "elapsed": 23,
     "status": "ok",
     "timestamp": 1628205427425,
     "user": {
      "displayName": "Andre Martins",
      "photoUrl": "https://lh3.googleusercontent.com/a-/AOh14GgR3a052ODCEOjpwY7gmV-YmeNMyNzOj64YJFnEzg=s64",
      "userId": "08401575457164981389"
     },
     "user_tz": 180
    },
    "id": "2R-PggWqBx4Y",
    "outputId": "21a73ebd-0508-4eb0-ac72-a5fa75a1181e"
   },
   "outputs": [
    {
     "data": {
      "text/html": [
       "<div>\n",
       "<style scoped>\n",
       "    .dataframe tbody tr th:only-of-type {\n",
       "        vertical-align: middle;\n",
       "    }\n",
       "\n",
       "    .dataframe tbody tr th {\n",
       "        vertical-align: top;\n",
       "    }\n",
       "\n",
       "    .dataframe thead th {\n",
       "        text-align: right;\n",
       "    }\n",
       "</style>\n",
       "<table border=\"1\" class=\"dataframe\">\n",
       "  <thead>\n",
       "    <tr style=\"text-align: right;\">\n",
       "      <th></th>\n",
       "      <th>ssc_p</th>\n",
       "      <th>hsc_p</th>\n",
       "      <th>degree_p</th>\n",
       "      <th>etest_p</th>\n",
       "      <th>mba_p</th>\n",
       "      <th>salary</th>\n",
       "      <th>gender_F</th>\n",
       "      <th>gender_M</th>\n",
       "      <th>ssc_b_Central</th>\n",
       "      <th>ssc_b_Others</th>\n",
       "      <th>hsc_b_Central</th>\n",
       "      <th>hsc_b_Others</th>\n",
       "      <th>hsc_s_Arts</th>\n",
       "      <th>hsc_s_Commerce</th>\n",
       "      <th>hsc_s_Science</th>\n",
       "      <th>degree_t_Comm&amp;Mgmt</th>\n",
       "      <th>degree_t_Sci&amp;Tech</th>\n",
       "      <th>workex_No</th>\n",
       "      <th>workex_Yes</th>\n",
       "      <th>specialisation_Mkt&amp;Fin</th>\n",
       "      <th>specialisation_Mkt&amp;HR</th>\n",
       "      <th>status_Not Placed</th>\n",
       "      <th>status_Placed</th>\n",
       "    </tr>\n",
       "  </thead>\n",
       "  <tbody>\n",
       "    <tr>\n",
       "      <th>0</th>\n",
       "      <td>67.00</td>\n",
       "      <td>91.00</td>\n",
       "      <td>58.00</td>\n",
       "      <td>55.0</td>\n",
       "      <td>58.80</td>\n",
       "      <td>1.0</td>\n",
       "      <td>0</td>\n",
       "      <td>1</td>\n",
       "      <td>0</td>\n",
       "      <td>1</td>\n",
       "      <td>0</td>\n",
       "      <td>1</td>\n",
       "      <td>0</td>\n",
       "      <td>1</td>\n",
       "      <td>0</td>\n",
       "      <td>0</td>\n",
       "      <td>1</td>\n",
       "      <td>1</td>\n",
       "      <td>0</td>\n",
       "      <td>0</td>\n",
       "      <td>1</td>\n",
       "      <td>0</td>\n",
       "      <td>1</td>\n",
       "    </tr>\n",
       "    <tr>\n",
       "      <th>1</th>\n",
       "      <td>79.33</td>\n",
       "      <td>78.33</td>\n",
       "      <td>77.48</td>\n",
       "      <td>86.5</td>\n",
       "      <td>66.28</td>\n",
       "      <td>0.0</td>\n",
       "      <td>0</td>\n",
       "      <td>1</td>\n",
       "      <td>1</td>\n",
       "      <td>0</td>\n",
       "      <td>0</td>\n",
       "      <td>1</td>\n",
       "      <td>0</td>\n",
       "      <td>0</td>\n",
       "      <td>1</td>\n",
       "      <td>0</td>\n",
       "      <td>1</td>\n",
       "      <td>0</td>\n",
       "      <td>1</td>\n",
       "      <td>1</td>\n",
       "      <td>0</td>\n",
       "      <td>0</td>\n",
       "      <td>1</td>\n",
       "    </tr>\n",
       "    <tr>\n",
       "      <th>2</th>\n",
       "      <td>65.00</td>\n",
       "      <td>68.00</td>\n",
       "      <td>64.00</td>\n",
       "      <td>75.0</td>\n",
       "      <td>57.80</td>\n",
       "      <td>1.0</td>\n",
       "      <td>0</td>\n",
       "      <td>1</td>\n",
       "      <td>1</td>\n",
       "      <td>0</td>\n",
       "      <td>1</td>\n",
       "      <td>0</td>\n",
       "      <td>1</td>\n",
       "      <td>0</td>\n",
       "      <td>0</td>\n",
       "      <td>1</td>\n",
       "      <td>0</td>\n",
       "      <td>1</td>\n",
       "      <td>0</td>\n",
       "      <td>1</td>\n",
       "      <td>0</td>\n",
       "      <td>0</td>\n",
       "      <td>1</td>\n",
       "    </tr>\n",
       "    <tr>\n",
       "      <th>3</th>\n",
       "      <td>56.00</td>\n",
       "      <td>52.00</td>\n",
       "      <td>52.00</td>\n",
       "      <td>66.0</td>\n",
       "      <td>59.43</td>\n",
       "      <td>0.0</td>\n",
       "      <td>0</td>\n",
       "      <td>1</td>\n",
       "      <td>1</td>\n",
       "      <td>0</td>\n",
       "      <td>1</td>\n",
       "      <td>0</td>\n",
       "      <td>0</td>\n",
       "      <td>0</td>\n",
       "      <td>1</td>\n",
       "      <td>0</td>\n",
       "      <td>1</td>\n",
       "      <td>1</td>\n",
       "      <td>0</td>\n",
       "      <td>0</td>\n",
       "      <td>1</td>\n",
       "      <td>1</td>\n",
       "      <td>0</td>\n",
       "    </tr>\n",
       "    <tr>\n",
       "      <th>4</th>\n",
       "      <td>85.80</td>\n",
       "      <td>73.60</td>\n",
       "      <td>73.30</td>\n",
       "      <td>96.8</td>\n",
       "      <td>55.50</td>\n",
       "      <td>1.0</td>\n",
       "      <td>0</td>\n",
       "      <td>1</td>\n",
       "      <td>1</td>\n",
       "      <td>0</td>\n",
       "      <td>1</td>\n",
       "      <td>0</td>\n",
       "      <td>0</td>\n",
       "      <td>1</td>\n",
       "      <td>0</td>\n",
       "      <td>1</td>\n",
       "      <td>0</td>\n",
       "      <td>1</td>\n",
       "      <td>0</td>\n",
       "      <td>1</td>\n",
       "      <td>0</td>\n",
       "      <td>0</td>\n",
       "      <td>1</td>\n",
       "    </tr>\n",
       "  </tbody>\n",
       "</table>\n",
       "</div>"
      ],
      "text/plain": [
       "   ssc_p  hsc_p  ...  status_Not Placed  status_Placed\n",
       "0  67.00  91.00  ...                  0              1\n",
       "1  79.33  78.33  ...                  0              1\n",
       "2  65.00  68.00  ...                  0              1\n",
       "3  56.00  52.00  ...                  1              0\n",
       "4  85.80  73.60  ...                  0              1\n",
       "\n",
       "[5 rows x 23 columns]"
      ]
     },
     "execution_count": 48,
     "metadata": {
      "tags": []
     },
     "output_type": "execute_result"
    }
   ],
   "source": [
    "df_dummy = pd.get_dummies(df)\n",
    "df_dummy.head()"
   ]
  },
  {
   "cell_type": "markdown",
   "metadata": {
    "id": "STN6g0tuQwt_"
   },
   "source": [
    "## **Matriz de correlação**"
   ]
  },
  {
   "cell_type": "markdown",
   "metadata": {
    "id": "qdESuZS0RDL1"
   },
   "source": [
    "Ánalise das variáveis que mais explicam os indivíduos terem o valor do salário abaixo ou acima da mediana"
   ]
  },
  {
   "cell_type": "code",
   "execution_count": 49,
   "metadata": {
    "colab": {
     "base_uri": "https://localhost:8080/",
     "height": 270
    },
    "executionInfo": {
     "elapsed": 23,
     "status": "ok",
     "timestamp": 1628205427426,
     "user": {
      "displayName": "Andre Martins",
      "photoUrl": "https://lh3.googleusercontent.com/a-/AOh14GgR3a052ODCEOjpwY7gmV-YmeNMyNzOj64YJFnEzg=s64",
      "userId": "08401575457164981389"
     },
     "user_tz": 180
    },
    "id": "Il2htG5NBx1e",
    "outputId": "cb5ff79d-c438-4f96-80d3-a8969a7b6220"
   },
   "outputs": [
    {
     "data": {
      "image/png": "[encoded data removed]",
      "text/plain": [
       "<Figure size 432x288 with 2 Axes>"
      ]
     },
     "metadata": {
      "needs_background": "light",
      "tags": []
     },
     "output_type": "display_data"
    }
   ],
   "source": [
    "sns.heatmap(df.corr(), annot=True, vmin=-1,vmax=1)\n",
    "plt.show()"
   ]
  },
  {
   "cell_type": "markdown",
   "metadata": {
    "id": "o3Y5gK6oUdlA"
   },
   "source": [
    "É possível ver que a coluna salary tem maior correlação com as colunas ssc_p e hsc_p que são notas no fundamental e ensino médio de uma matéria.\n",
    "\n",
    "Lembrando que correlação n implica em causalidade"
   ]
  },
  {
   "cell_type": "markdown",
   "metadata": {
    "id": "bZ-eWEtnVQ4W"
   },
   "source": [
    "## **Análise gráfica**"
   ]
  },
  {
   "cell_type": "code",
   "execution_count": 50,
   "metadata": {
    "colab": {
     "base_uri": "https://localhost:8080/",
     "height": 281
    },
    "executionInfo": {
     "elapsed": 22,
     "status": "ok",
     "timestamp": 1628205427427,
     "user": {
      "displayName": "Andre Martins",
      "photoUrl": "https://lh3.googleusercontent.com/a-/AOh14GgR3a052ODCEOjpwY7gmV-YmeNMyNzOj64YJFnEzg=s64",
      "userId": "08401575457164981389"
     },
     "user_tz": 180
    },
    "id": "4tV-5bebBxes",
    "outputId": "6aac78c6-4b43-4508-ae2c-d5c524288765"
   },
   "outputs": [
    {
     "data": {
      "image/png": "[encoded data removed]",
      "text/plain": [
       "<Figure size 432x288 with 1 Axes>"
      ]
     },
     "metadata": {
      "needs_background": "light",
      "tags": []
     },
     "output_type": "display_data"
    }
   ],
   "source": [
    "sns.scatterplot(data=df, x='ssc_p', y='hsc_p', hue='salary')\n",
    "plt.show()"
   ]
  },
  {
   "cell_type": "code",
   "execution_count": 51,
   "metadata": {
    "colab": {
     "base_uri": "https://localhost:8080/",
     "height": 279
    },
    "executionInfo": {
     "elapsed": 1119,
     "status": "ok",
     "timestamp": 1628205428527,
     "user": {
      "displayName": "Andre Martins",
      "photoUrl": "https://lh3.googleusercontent.com/a-/AOh14GgR3a052ODCEOjpwY7gmV-YmeNMyNzOj64YJFnEzg=s64",
      "userId": "08401575457164981389"
     },
     "user_tz": 180
    },
    "id": "iC5ZKXGmQvpR",
    "outputId": "2021351a-565d-4f57-847a-1ebed6503529"
   },
   "outputs": [
    {
     "data": {
      "image/png": "[encoded data removed]",
      "text/plain": [
       "<Figure size 432x288 with 1 Axes>"
      ]
     },
     "metadata": {
      "needs_background": "light",
      "tags": []
     },
     "output_type": "display_data"
    }
   ],
   "source": [
    "sns.scatterplot(data=df, x='ssc_p', y='degree_p', hue='salary')\n",
    "plt.show()"
   ]
  },
  {
   "cell_type": "markdown",
   "metadata": {
    "id": "9ON5Jo2tncbc"
   },
   "source": [
    "## **Aplicando modelo de Machine Learning: KNN**"
   ]
  },
  {
   "cell_type": "markdown",
   "metadata": {
    "id": "M_Ths5tSrXyD"
   },
   "source": [
    "Antes de aplicar o modelo é importante decidir que características serão analisadas e qual a coluna que queremos prever, ou seja, quais as colunas são as features(X) e qual é a target(y)"
   ]
  },
  {
   "cell_type": "code",
   "execution_count": 53,
   "metadata": {
    "executionInfo": {
     "elapsed": 413,
     "status": "ok",
     "timestamp": 1628207197569,
     "user": {
      "displayName": "Andre Martins",
      "photoUrl": "https://lh3.googleusercontent.com/a-/AOh14GgR3a052ODCEOjpwY7gmV-YmeNMyNzOj64YJFnEzg=s64",
      "userId": "08401575457164981389"
     },
     "user_tz": 180
    },
    "id": "FUeyIHesQvmT"
   },
   "outputs": [],
   "source": [
    "# Colunas das Features são todas menos a coluna do salário\n",
    "# Note que deve ser um array em numpy\n",
    "X = np.array(df_dummy.drop(['salary'], 1))\n",
    "\n",
    "# Coluna do target, nesse caso, salary\n",
    "y = np.array(df_dummy['salary'])"
   ]
  },
  {
   "cell_type": "markdown",
   "metadata": {
    "id": "svNHz1EtuFXP"
   },
   "source": [
    "Separando o dataset em treino e teste com a função a seguir, na proporção de 80 treino e 20% teste"
   ]
  },
  {
   "cell_type": "code",
   "execution_count": 54,
   "metadata": {
    "executionInfo": {
     "elapsed": 275,
     "status": "ok",
     "timestamp": 1628209174197,
     "user": {
      "displayName": "Andre Martins",
      "photoUrl": "https://lh3.googleusercontent.com/a-/AOh14GgR3a052ODCEOjpwY7gmV-YmeNMyNzOj64YJFnEzg=s64",
      "userId": "08401575457164981389"
     },
     "user_tz": 180
    },
    "id": "OgvpEACpQvjg"
   },
   "outputs": [],
   "source": [
    "X_train, X_test, y_train, y_test = model_selection.train_test_split(X, y, test_size= 0.2, random_state=0)"
   ]
  },
  {
   "cell_type": "markdown",
   "metadata": {
    "id": "6oH4uDNQ2UaL"
   },
   "source": [
    "Como o KNN depende muito das distâncias entre os pontos, é bom normalizar os valores para aumentar a precisão.\n",
    "E para isso será utilizada a seguinte função"
   ]
  },
  {
   "cell_type": "code",
   "execution_count": 55,
   "metadata": {
    "executionInfo": {
     "elapsed": 601,
     "status": "ok",
     "timestamp": 1628209712362,
     "user": {
      "displayName": "Andre Martins",
      "photoUrl": "https://lh3.googleusercontent.com/a-/AOh14GgR3a052ODCEOjpwY7gmV-YmeNMyNzOj64YJFnEzg=s64",
      "userId": "08401575457164981389"
     },
     "user_tz": 180
    },
    "id": "021e3InAQvgL"
   },
   "outputs": [],
   "source": [
    "sc_X = StandardScaler()\n",
    "X_train =  sc_X.fit_transform(X_train)\n",
    "X_test =  sc_X.fit_transform(X_test)"
   ]
  },
  {
   "cell_type": "markdown",
   "metadata": {
    "id": "dYJmI8Bp3V6T"
   },
   "source": [
    "Agora tudo certo para definir o modelo de ML usando o KNN.\n",
    "Usando a função a seguir para executar o códido do KNN"
   ]
  },
  {
   "cell_type": "code",
   "execution_count": 65,
   "metadata": {
    "executionInfo": {
     "elapsed": 264,
     "status": "ok",
     "timestamp": 1628210672433,
     "user": {
      "displayName": "Andre Martins",
      "photoUrl": "https://lh3.googleusercontent.com/a-/AOh14GgR3a052ODCEOjpwY7gmV-YmeNMyNzOj64YJFnEzg=s64",
      "userId": "08401575457164981389"
     },
     "user_tz": 180
    },
    "id": "VdMifY_9Qvdy"
   },
   "outputs": [],
   "source": [
    "#Algoritmo do KNN\n",
    "clf = neighbors.KNeighborsClassifier(n_neighbors=19, metric='euclidean')"
   ]
  },
  {
   "cell_type": "markdown",
   "metadata": {
    "id": "Ya-h_rqt3yX_"
   },
   "source": [
    "Falta agora treinar\n"
   ]
  },
  {
   "cell_type": "code",
   "execution_count": 66,
   "metadata": {
    "colab": {
     "base_uri": "https://localhost:8080/"
    },
    "executionInfo": {
     "elapsed": 274,
     "status": "ok",
     "timestamp": 1628210674336,
     "user": {
      "displayName": "Andre Martins",
      "photoUrl": "https://lh3.googleusercontent.com/a-/AOh14GgR3a052ODCEOjpwY7gmV-YmeNMyNzOj64YJFnEzg=s64",
      "userId": "08401575457164981389"
     },
     "user_tz": 180
    },
    "id": "I4lOMMuJQvbU",
    "outputId": "cb688fe9-5908-45de-d7b7-31d571eca0d0"
   },
   "outputs": [
    {
     "data": {
      "text/plain": [
       "KNeighborsClassifier(algorithm='auto', leaf_size=30, metric='euclidean',\n",
       "                     metric_params=None, n_jobs=None, n_neighbors=19, p=2,\n",
       "                     weights='uniform')"
      ]
     },
     "execution_count": 66,
     "metadata": {
      "tags": []
     },
     "output_type": "execute_result"
    }
   ],
   "source": [
    "#Função de treino\n",
    "clf.fit( X_train, y_train)"
   ]
  },
  {
   "cell_type": "markdown",
   "metadata": {
    "id": "Stj93jVw4Q3I"
   },
   "source": [
    "Algoritmo treinado, agora vamos testar !!"
   ]
  },
  {
   "cell_type": "code",
   "execution_count": 67,
   "metadata": {
    "colab": {
     "base_uri": "https://localhost:8080/"
    },
    "executionInfo": {
     "elapsed": 274,
     "status": "ok",
     "timestamp": 1628210677052,
     "user": {
      "displayName": "Andre Martins",
      "photoUrl": "https://lh3.googleusercontent.com/a-/AOh14GgR3a052ODCEOjpwY7gmV-YmeNMyNzOj64YJFnEzg=s64",
      "userId": "08401575457164981389"
     },
     "user_tz": 180
    },
    "id": "8pV516lr4W-G",
    "outputId": "10574096-5c0d-4696-b816-c473d4afc195"
   },
   "outputs": [
    {
     "data": {
      "text/plain": [
       "0.9024390243902439"
      ]
     },
     "execution_count": 67,
     "metadata": {
      "tags": []
     },
     "output_type": "execute_result"
    }
   ],
   "source": [
    "# Função de teste\n",
    "accuracy = clf.score(X_test,y_test)\n",
    "accuracy"
   ]
  },
  {
   "cell_type": "markdown",
   "metadata": {
    "id": "6gSxq7PJ44uL"
   },
   "source": [
    "## **Visualizando Fronteira**"
   ]
  },
  {
   "cell_type": "markdown",
   "metadata": {
    "id": "Zu1IhUWl5uRi"
   },
   "source": [
    "Só pra ver melhor os gráficos plotados anteriormente. (usando apenas duas colunas,mas n são as unicas q influenciaram no resultado)"
   ]
  },
  {
   "cell_type": "code",
   "execution_count": 74,
   "metadata": {
    "executionInfo": {
     "elapsed": 273,
     "status": "ok",
     "timestamp": 1628211145122,
     "user": {
      "displayName": "Andre Martins",
      "photoUrl": "https://lh3.googleusercontent.com/a-/AOh14GgR3a052ODCEOjpwY7gmV-YmeNMyNzOj64YJFnEzg=s64",
      "userId": "08401575457164981389"
     },
     "user_tz": 180
    },
    "id": "oV9PQZR84YEO"
   },
   "outputs": [],
   "source": [
    "def knn_comparison(data, k):\n",
    "  x = data[['ssc_p','hsc_p']].values\n",
    "  y = data['salary'].astype(int).values\n",
    "  knn = neighbors.KNeighborsClassifier(n_neighbors=k)\n",
    "  knn.fit(x, y)\n",
    "  plt.xlabel('ssc_p')\n",
    "  plt.ylabel('hsc_p')\n",
    "  plt.title('K='+ str(k))\n",
    "  plot_decision_regions(x, y, clf=knn)\n",
    "  plt.show()"
   ]
  },
  {
   "cell_type": "code",
   "execution_count": 77,
   "metadata": {
    "colab": {
     "base_uri": "https://localhost:8080/",
     "height": 329
    },
    "executionInfo": {
     "elapsed": 4497,
     "status": "ok",
     "timestamp": 1628211284365,
     "user": {
      "displayName": "Andre Martins",
      "photoUrl": "https://lh3.googleusercontent.com/a-/AOh14GgR3a052ODCEOjpwY7gmV-YmeNMyNzOj64YJFnEzg=s64",
      "userId": "08401575457164981389"
     },
     "user_tz": 180
    },
    "id": "HNklUpLw4YBR",
    "outputId": "342f03d3-d28c-4c90-cce6-f029dcf4a653"
   },
   "outputs": [
    {
     "name": "stderr",
     "output_type": "stream",
     "text": [
      "/usr/local/lib/python3.7/dist-packages/mlxtend/plotting/decision_regions.py:244: MatplotlibDeprecationWarning: Passing unsupported keyword arguments to axis() will raise a TypeError in 3.3.\n",
      "  ax.axis(xmin=xx.min(), xmax=xx.max(), y_min=yy.min(), y_max=yy.max())\n"
     ]
    },
    {
     "data": {
      "image/png": "[encoded data removed]",
      "text/plain": [
       "<Figure size 432x288 with 1 Axes>"
      ]
     },
     "metadata": {
      "needs_background": "light",
      "tags": []
     },
     "output_type": "display_data"
    }
   ],
   "source": [
    "knn_comparison(data=df_dummy, k=19)"
   ]
  },
  {
   "cell_type": "markdown",
   "metadata": {
    "id": "BAjuVE2V-aHV"
   },
   "source": [
    "## **Como usar na prática?**"
   ]
  },
  {
   "cell_type": "markdown",
   "metadata": {
    "id": "KlRuuX9_Arwz"
   },
   "source": [
    "Para facilitar o entendimento e a visualização dps"
   ]
  },
  {
   "cell_type": "code",
   "execution_count": 84,
   "metadata": {
    "colab": {
     "base_uri": "https://localhost:8080/",
     "height": 762
    },
    "executionInfo": {
     "elapsed": 256,
     "status": "ok",
     "timestamp": 1628212295574,
     "user": {
      "displayName": "Andre Martins",
      "photoUrl": "https://lh3.googleusercontent.com/a-/AOh14GgR3a052ODCEOjpwY7gmV-YmeNMyNzOj64YJFnEzg=s64",
      "userId": "08401575457164981389"
     },
     "user_tz": 180
    },
    "id": "nOKcnXZrA02u",
    "outputId": "3e6eb8e1-0fe4-4cba-da8b-79c613e20895"
   },
   "outputs": [
    {
     "data": {
      "text/html": [
       "<div>\n",
       "<style scoped>\n",
       "    .dataframe tbody tr th:only-of-type {\n",
       "        vertical-align: middle;\n",
       "    }\n",
       "\n",
       "    .dataframe tbody tr th {\n",
       "        vertical-align: top;\n",
       "    }\n",
       "\n",
       "    .dataframe thead th {\n",
       "        text-align: right;\n",
       "    }\n",
       "</style>\n",
       "<table border=\"1\" class=\"dataframe\">\n",
       "  <thead>\n",
       "    <tr style=\"text-align: right;\">\n",
       "      <th></th>\n",
       "      <th>0</th>\n",
       "    </tr>\n",
       "  </thead>\n",
       "  <tbody>\n",
       "    <tr>\n",
       "      <th>ssc_p</th>\n",
       "      <td>67.0</td>\n",
       "    </tr>\n",
       "    <tr>\n",
       "      <th>hsc_p</th>\n",
       "      <td>91.0</td>\n",
       "    </tr>\n",
       "    <tr>\n",
       "      <th>degree_p</th>\n",
       "      <td>58.0</td>\n",
       "    </tr>\n",
       "    <tr>\n",
       "      <th>etest_p</th>\n",
       "      <td>55.0</td>\n",
       "    </tr>\n",
       "    <tr>\n",
       "      <th>mba_p</th>\n",
       "      <td>58.8</td>\n",
       "    </tr>\n",
       "    <tr>\n",
       "      <th>salary</th>\n",
       "      <td>1.0</td>\n",
       "    </tr>\n",
       "    <tr>\n",
       "      <th>gender_F</th>\n",
       "      <td>0.0</td>\n",
       "    </tr>\n",
       "    <tr>\n",
       "      <th>gender_M</th>\n",
       "      <td>1.0</td>\n",
       "    </tr>\n",
       "    <tr>\n",
       "      <th>ssc_b_Central</th>\n",
       "      <td>0.0</td>\n",
       "    </tr>\n",
       "    <tr>\n",
       "      <th>ssc_b_Others</th>\n",
       "      <td>1.0</td>\n",
       "    </tr>\n",
       "    <tr>\n",
       "      <th>hsc_b_Central</th>\n",
       "      <td>0.0</td>\n",
       "    </tr>\n",
       "    <tr>\n",
       "      <th>hsc_b_Others</th>\n",
       "      <td>1.0</td>\n",
       "    </tr>\n",
       "    <tr>\n",
       "      <th>hsc_s_Arts</th>\n",
       "      <td>0.0</td>\n",
       "    </tr>\n",
       "    <tr>\n",
       "      <th>hsc_s_Commerce</th>\n",
       "      <td>1.0</td>\n",
       "    </tr>\n",
       "    <tr>\n",
       "      <th>hsc_s_Science</th>\n",
       "      <td>0.0</td>\n",
       "    </tr>\n",
       "    <tr>\n",
       "      <th>degree_t_Comm&amp;Mgmt</th>\n",
       "      <td>0.0</td>\n",
       "    </tr>\n",
       "    <tr>\n",
       "      <th>degree_t_Sci&amp;Tech</th>\n",
       "      <td>1.0</td>\n",
       "    </tr>\n",
       "    <tr>\n",
       "      <th>workex_No</th>\n",
       "      <td>1.0</td>\n",
       "    </tr>\n",
       "    <tr>\n",
       "      <th>workex_Yes</th>\n",
       "      <td>0.0</td>\n",
       "    </tr>\n",
       "    <tr>\n",
       "      <th>specialisation_Mkt&amp;Fin</th>\n",
       "      <td>0.0</td>\n",
       "    </tr>\n",
       "    <tr>\n",
       "      <th>specialisation_Mkt&amp;HR</th>\n",
       "      <td>1.0</td>\n",
       "    </tr>\n",
       "    <tr>\n",
       "      <th>status_Not Placed</th>\n",
       "      <td>0.0</td>\n",
       "    </tr>\n",
       "    <tr>\n",
       "      <th>status_Placed</th>\n",
       "      <td>1.0</td>\n",
       "    </tr>\n",
       "  </tbody>\n",
       "</table>\n",
       "</div>"
      ],
      "text/plain": [
       "                           0\n",
       "ssc_p                   67.0\n",
       "hsc_p                   91.0\n",
       "degree_p                58.0\n",
       "etest_p                 55.0\n",
       "mba_p                   58.8\n",
       "salary                   1.0\n",
       "gender_F                 0.0\n",
       "gender_M                 1.0\n",
       "ssc_b_Central            0.0\n",
       "ssc_b_Others             1.0\n",
       "hsc_b_Central            0.0\n",
       "hsc_b_Others             1.0\n",
       "hsc_s_Arts               0.0\n",
       "hsc_s_Commerce           1.0\n",
       "hsc_s_Science            0.0\n",
       "degree_t_Comm&Mgmt       0.0\n",
       "degree_t_Sci&Tech        1.0\n",
       "workex_No                1.0\n",
       "workex_Yes               0.0\n",
       "specialisation_Mkt&Fin   0.0\n",
       "specialisation_Mkt&HR    1.0\n",
       "status_Not Placed        0.0\n",
       "status_Placed            1.0"
      ]
     },
     "execution_count": 84,
     "metadata": {
      "tags": []
     },
     "output_type": "execute_result"
    }
   ],
   "source": [
    "#primeira linha da base de dados\n",
    "df_dummy.head(1).T"
   ]
  },
  {
   "cell_type": "markdown",
   "metadata": {
    "id": "XMo_JQmq-eIi"
   },
   "source": [
    "Para caso vc ter todas as informalções necessárias menos o valor do salario, então pode ser feito da seguinte maneira."
   ]
  },
  {
   "cell_type": "code",
   "execution_count": 82,
   "metadata": {
    "colab": {
     "base_uri": "https://localhost:8080/"
    },
    "executionInfo": {
     "elapsed": 281,
     "status": "ok",
     "timestamp": 1628212206584,
     "user": {
      "displayName": "Andre Martins",
      "photoUrl": "https://lh3.googleusercontent.com/a-/AOh14GgR3a052ODCEOjpwY7gmV-YmeNMyNzOj64YJFnEzg=s64",
      "userId": "08401575457164981389"
     },
     "user_tz": 180
    },
    "id": "8v2FhV_S4X-n",
    "outputId": "4a8a9481-faef-4d20-b6a5-6b2e44c744b0"
   },
   "outputs": [
    {
     "name": "stdout",
     "output_type": "stream",
     "text": [
      "[0.]\n"
     ]
    }
   ],
   "source": [
    "# Dados da pessoa que queremos prever\n",
    "exemplo = np.array([45,45,60,60,50,1,0,1,0,0,0,0,1,0,1,0,0,1,1,0,0,0])\n",
    "\n",
    "# Alterando seu formato\n",
    "exemplo = exemplo.reshape(1, -1)\n",
    "\n",
    "# Normalizar os números, igual anteriormente\n",
    "exemplo = sc_X.transform(exemplo)\n",
    "\n",
    "# Prevendo sua faixa de renda\n",
    "predicao = clf.predict(exemplo)\n",
    "\n",
    "print(predicao) # 0 a renda é menor q mediana e 1 é maior ou igual a mediana"
   ]
  },
  {
   "cell_type": "code",
   "execution_count": 2,
   "metadata": {},
   "outputs": [
    {
     "data": {
      "text/plain": [
       "'andre'"
      ]
     },
     "execution_count": 2,
     "metadata": {},
     "output_type": "execute_result"
    }
   ],
   "source": [
    "a = 'andre'\n",
    "a"
   ]
  },
  {
   "cell_type": "code",
   "execution_count": 3,
   "metadata": {},
   "outputs": [
    {
     "data": {
      "text/plain": [
       "23"
      ]
     },
     "execution_count": 3,
     "metadata": {},
     "output_type": "execute_result"
    }
   ],
   "source": [
    "b = 23\n",
    "b"
   ]
  },
  {
   "cell_type": "code",
   "execution_count": 4,
   "metadata": {},
   "outputs": [
    {
     "data": {
      "text/plain": [
       "'23'"
      ]
     },
     "execution_count": 4,
     "metadata": {},
     "output_type": "execute_result"
    }
   ],
   "source": [
    "str(b)"
   ]
  },
  {
   "cell_type": "code",
   "execution_count": null,
   "metadata": {},
   "outputs": [],
   "source": []
  }
 ],
 "metadata": {
  "colab": {
   "authorship_tag": "ABX9TyObytl7sHywg8HcdAKYfQYO",
   "name": "IA_KNN.ipynb",
   "provenance": []
  },
  "kernelspec": {
   "display_name": "Python 3",
   "language": "python",
   "name": "python3"
  },
  "language_info": {
   "codemirror_mode": {
    "name": "ipython",
    "version": 3
   },
   "file_extension": ".py",
   "mimetype": "text/x-python",
   "name": "python",
   "nbconvert_exporter": "python",
   "pygments_lexer": "ipython3",
   "version": "3.8.8"
  }
 },
 "nbformat": 4,
 "nbformat_minor": 1
}
